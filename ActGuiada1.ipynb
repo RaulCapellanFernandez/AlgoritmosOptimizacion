{
  "nbformat": 4,
  "nbformat_minor": 0,
  "metadata": {
    "colab": {
      "name": "Copy of ActGuiada1.ipynb",
      "provenance": [],
      "collapsed_sections": [],
      "authorship_tag": "ABX9TyOn5TBRf+yt2LCbNGm0ww8q",
      "include_colab_link": true
    },
    "kernelspec": {
      "name": "python3",
      "display_name": "Python 3"
    }
  },
  "cells": [
    {
      "cell_type": "markdown",
      "metadata": {
        "id": "view-in-github",
        "colab_type": "text"
      },
      "source": [
        "<a href=\"https://colab.research.google.com/github/RaulCapellanFernandez/AlgoritmosOptimizacion/blob/main/ActGuiada1.ipynb\" target=\"_parent\"><img src=\"https://colab.research.google.com/assets/colab-badge.svg\" alt=\"Open In Colab\"/></a>"
      ]
    },
    {
      "cell_type": "markdown",
      "metadata": {
        "id": "Jp0HH8ILkLqu"
      },
      "source": [
        "## Actividad Guiada 1: Algoritmos de optimización.\r\n",
        "\r\n",
        "- Autor: Raúl Capellán Fernández\r\n",
        "-URL: https://colab.research.google.com/github/RaulCapellanFernandez/AlgoritmosOptimizacion/blob/main/ActGuiada1.ipynb\r\n",
        "-URL Github: https://github.com/RaulCapellanFernandez/AlgoritmosOptimizacion/blob/main/ActGuiada1.ipynb"
      ]
    },
    {
      "cell_type": "markdown",
      "metadata": {
        "id": "TYwXiP9VkSCd"
      },
      "source": [
        "### Tores de Hanoi con DIvide y vencerás:\r\n",
        "\r\n"
      ]
    },
    {
      "cell_type": "code",
      "metadata": {
        "id": "JlMCFqG-JGKB"
      },
      "source": [
        "def torresHanoi(numFichas, desde, hasta):\r\n",
        "  if numFichas == 1:\r\n",
        "    print(\"Lleva la ficha desde:\", desde,\"hasta\", hasta)\r\n",
        "  else:\r\n",
        "    torresHanoi(numFichas-1, desde, 6-desde-hasta)\r\n",
        "    print(\"LLeva la ficha\",desde,\"hasta\",hasta)\r\n",
        "    torresHanoi(numFichas-1, 6-desde-hasta, hasta)"
      ],
      "execution_count": 1,
      "outputs": []
    },
    {
      "cell_type": "code",
      "metadata": {
        "id": "h4_dLd7xMUn7",
        "colab": {
          "base_uri": "https://localhost:8080/"
        },
        "outputId": "7ef1c6b1-72f6-44c3-de24-d3875a078ffb"
      },
      "source": [
        "torresHanoi(3,1,3)"
      ],
      "execution_count": 2,
      "outputs": [
        {
          "output_type": "stream",
          "text": [
            "Lleva la ficha desde: 1 hasta 3\n",
            "LLeva la ficha 1 hasta 2\n",
            "Lleva la ficha desde: 3 hasta 2\n",
            "LLeva la ficha 1 hasta 3\n",
            "Lleva la ficha desde: 2 hasta 1\n",
            "LLeva la ficha 2 hasta 3\n",
            "Lleva la ficha desde: 1 hasta 3\n"
          ],
          "name": "stdout"
        }
      ]
    },
    {
      "cell_type": "markdown",
      "metadata": {
        "id": "L11XKJPhMz1o"
      },
      "source": [
        "### Cambio de Monedas con Algoritmo voraz"
      ]
    },
    {
      "cell_type": "code",
      "metadata": {
        "id": "BWeLyuJ0SZg3"
      },
      "source": [
        "def cambioMonedas(cambio, monedas):\r\n",
        "  arrayCambio = [0]*len(monedas) #Array con [0,0,0,0,...]\r\n",
        "  valorAcumulado = 0\r\n",
        "\r\n",
        "  for i, m in enumerate(monedas):\r\n",
        "    nMonedas = (cambio-valorAcumulado)//m # // Devuelve un valor entero en una division\r\n",
        "    arrayCambio[i] = nMonedas\r\n",
        "    valorAcumulado = valorAcumulado + nMonedas*m\r\n",
        "\r\n",
        "    if valorAcumulado == cambio:\r\n",
        "      return arrayCambio"
      ],
      "execution_count": 3,
      "outputs": []
    },
    {
      "cell_type": "code",
      "metadata": {
        "colab": {
          "base_uri": "https://localhost:8080/"
        },
        "id": "7Yf4YHCuVfX5",
        "outputId": "bffe76c4-3337-4fd1-de39-0567c152c8d2"
      },
      "source": [
        "\r\n",
        "cambioMonedas(50, [25,10,5,1])"
      ],
      "execution_count": 4,
      "outputs": [
        {
          "output_type": "execute_result",
          "data": {
            "text/plain": [
              "[2, 0, 0, 0]"
            ]
          },
          "metadata": {
            "tags": []
          },
          "execution_count": 4
        }
      ]
    },
    {
      "cell_type": "markdown",
      "metadata": {
        "id": "3JO1sBs9YLKK"
      },
      "source": [
        "### N Reinas con Bactracking"
      ]
    },
    {
      "cell_type": "code",
      "metadata": {
        "id": "ho2tXCNiYtX9"
      },
      "source": [
        "def esValida(sol, etapa):\r\n",
        "  for i in range(etapa+1):\r\n",
        "    if sol.count(sol[i]) > 1:\r\n",
        "      return False\r\n",
        "    for j in range(i+1, etapa+1):\r\n",
        "      if abs(i-j) == abs(sol[i] - sol[j]): return False\r\n",
        "  return True\r\n",
        "\r\n",
        "\r\n",
        "def escribe(S):\r\n",
        "  n = len(S)\r\n",
        "  for x in range(n):\r\n",
        "    print(\"\")\r\n",
        "    for i in range(n):\r\n",
        "      if S[i] == x+1:\r\n",
        "        print(\" X \" , end=\"\")\r\n",
        "      else:\r\n",
        "        print(\" - \", end=\"\")\r\n",
        "\r\n",
        "def reinas(dim, sol=[], etapa=0):\r\n",
        "  if len(sol) == 0:\r\n",
        "    sol = [0 for i in range(dim)]\r\n",
        "    \r\n",
        "  for i in range(1, dim+1):\r\n",
        "    sol[etapa] = i\r\n",
        "\r\n",
        "    if esValida(sol, etapa):\r\n",
        "      if etapa == dim-1:\r\n",
        "        print(sol)\r\n",
        "        escribe(sol)\r\n",
        "        print(\"\\n\\n\\n\")\r\n",
        "      else:\r\n",
        "        reinas(dim, sol, etapa+1)\r\n",
        "    else:\r\n",
        "      None\r\n",
        "    sol[etapa] = 0\r\n"
      ],
      "execution_count": 5,
      "outputs": []
    },
    {
      "cell_type": "code",
      "metadata": {
        "colab": {
          "base_uri": "https://localhost:8080/"
        },
        "id": "AuDO4BXZZU8Q",
        "outputId": "da6cf30f-a748-43ba-9091-66a512878d68"
      },
      "source": [
        "reinas(4)"
      ],
      "execution_count": 6,
      "outputs": [
        {
          "output_type": "stream",
          "text": [
            "[2, 4, 1, 3]\n",
            "\n",
            " -  -  X  - \n",
            " X  -  -  - \n",
            " -  -  -  X \n",
            " -  X  -  - \n",
            "\n",
            "\n",
            "\n",
            "[3, 1, 4, 2]\n",
            "\n",
            " -  X  -  - \n",
            " -  -  -  X \n",
            " X  -  -  - \n",
            " -  -  X  - \n",
            "\n",
            "\n",
            "\n"
          ],
          "name": "stdout"
        }
      ]
    },
    {
      "cell_type": "markdown",
      "metadata": {
        "id": "iI_8ONXAb17Q"
      },
      "source": [
        "### Puntos más cercanos"
      ]
    },
    {
      "cell_type": "code",
      "metadata": {
        "id": "V7XGzi_FxOJ4"
      },
      "source": [
        "import random\r\n",
        "import math\r\n",
        "random.seed(42)"
      ],
      "execution_count": 7,
      "outputs": []
    },
    {
      "cell_type": "markdown",
      "metadata": {
        "id": "Iil-t9QXv4Zr"
      },
      "source": [
        "#### Puntos más cercanos 1D"
      ]
    },
    {
      "cell_type": "code",
      "metadata": {
        "id": "cBvLwdTFwRY4"
      },
      "source": [
        "lista = [random.randrange(1, 1000) for x in range(1000)]"
      ],
      "execution_count": 8,
      "outputs": []
    },
    {
      "cell_type": "markdown",
      "metadata": {
        "id": "K9Hh5dVWvRhn"
      },
      "source": [
        "Fuerza Bruta"
      ]
    },
    {
      "cell_type": "code",
      "metadata": {
        "id": "BD9ALodOvw5p",
        "colab": {
          "base_uri": "https://localhost:8080/"
        },
        "outputId": "917248b4-4a6f-4400-c5aa-18e722927b62"
      },
      "source": [
        "def fuerzaBruta(lista, element):\r\n",
        "  print(\"Hay que buscar el punto más cercano a\",element)\r\n",
        "  if len(lista) == 0:\r\n",
        "    print(\"La lista está vacia\")\r\n",
        "  elif len(lista) == 1:\r\n",
        "    print(\"El elemento mas cercano de la lista es:\", lista)\r\n",
        "  else:\r\n",
        "    aux = lista[0]\r\n",
        "    for i in range(len(lista)):\r\n",
        "      if len(lista) > i+1:\r\n",
        "        if abs(lista[i]-element) > abs(lista[i+1]-element):\r\n",
        "          aux = lista[i+1]\r\n",
        "  print(\"El punto más cercano es:\", aux)\r\n",
        "\r\n",
        "lista = [100,3,4,4]\r\n",
        "fuerzaBruta(lista, -10)"
      ],
      "execution_count": 9,
      "outputs": [
        {
          "output_type": "stream",
          "text": [
            "Hay que buscar el punto más cercano a -10\n",
            "El punto más cercano es: 3\n"
          ],
          "name": "stdout"
        }
      ]
    },
    {
      "cell_type": "markdown",
      "metadata": {
        "id": "l3EbUG8UvXA_"
      },
      "source": [
        "Complejidad"
      ]
    },
    {
      "cell_type": "markdown",
      "metadata": {
        "id": "6pbWLbmJD8dK"
      },
      "source": [
        ""
      ]
    },
    {
      "cell_type": "markdown",
      "metadata": {
        "id": "CMFe7Tqnvxiz"
      },
      "source": [
        "La complejidad mediante fuerza bruta es de O(n) ya que hay que recorrer la lista una única vez, el resto de operaciones son comparaciones y asignaciones que no influyen para la complejidad final."
      ]
    },
    {
      "cell_type": "markdown",
      "metadata": {
        "id": "-m40v8olvbUK"
      },
      "source": [
        "Divide y Vencerás"
      ]
    },
    {
      "cell_type": "code",
      "metadata": {
        "id": "XIMiblKKvyG6",
        "colab": {
          "base_uri": "https://localhost:8080/"
        },
        "outputId": "d752991d-3a1f-447d-bba8-7765f55380f1"
      },
      "source": [
        "def divideVenceras(lista, element, result):\r\n",
        "  if len(lista) == 0:\r\n",
        "    print(\"La lista está vacía\")\r\n",
        "    return 0\r\n",
        "  elif len(lista) == 1:\r\n",
        "    print(\"El punto más cercano es:\", result)\r\n",
        "  else:\r\n",
        "    if abs(lista[0]-element) < abs(result-element):\r\n",
        "      result = lista[0]\r\n",
        "    lista.pop(0)\r\n",
        "    divideVenceras(lista, element, result)\r\n",
        "\r\n",
        "lista = [100,3,4,4]\r\n",
        "divideVenceras(lista,80,lista[0])"
      ],
      "execution_count": 10,
      "outputs": [
        {
          "output_type": "stream",
          "text": [
            "El punto más cercano es: 100\n"
          ],
          "name": "stdout"
        }
      ]
    },
    {
      "cell_type": "markdown",
      "metadata": {
        "id": "CnqrVRorvfWO"
      },
      "source": [
        "Complejidad"
      ]
    },
    {
      "cell_type": "code",
      "metadata": {
        "id": "lbFogUKnvzMK"
      },
      "source": [
        "  "
      ],
      "execution_count": 10,
      "outputs": []
    },
    {
      "cell_type": "markdown",
      "metadata": {
        "id": "1VhnD2ShviiZ"
      },
      "source": [
        "#### Puntos más cercanos 2D\r\n"
      ]
    },
    {
      "cell_type": "code",
      "metadata": {
        "id": "nASErUu0v0LY",
        "colab": {
          "base_uri": "https://localhost:8080/"
        },
        "outputId": "97172853-13e9-41f8-d144-88050bd05e21"
      },
      "source": [
        "def divideVenceras2D(lista, element, result): \r\n",
        "  if len(lista) == 0:\r\n",
        "    print(\"El punto más cercano es:\", result)\r\n",
        "  else:\r\n",
        "    #Primero se calcula la distancia del elemento de la lista y el elemento a que le pasamos\r\n",
        "    x = lista[0][0]-abs(element[0])\r\n",
        "    y = lista[0][1]-abs(element[1])\r\n",
        "    distPunto = math.sqrt(math.pow(x,2) + math.pow(y,2))\r\n",
        "    print(lista[0])\r\n",
        "    print(distPunto)\r\n",
        "\r\n",
        "    #Calculamos la distancia del elemento menor con respecto a el elemento a comparar\r\n",
        "    x = result[0]-element[0]\r\n",
        "    y = result[1]-element[1]\r\n",
        "    distResult = math.sqrt(math.pow(x,2) + math.pow(y,2))\r\n",
        "\r\n",
        "    if distPunto < distResult:\r\n",
        "      result = lista[0]\r\n",
        "    lista.pop(0)\r\n",
        "    divideVenceras2D(lista, element, result)\r\n",
        "\r\n",
        "lista = [[10,-5],[1,1],[3,2]]\r\n",
        "element = [3,2]\r\n",
        "divideVenceras2D(lista,element,lista[0])"
      ],
      "execution_count": 11,
      "outputs": [
        {
          "output_type": "stream",
          "text": [
            "[10, -5]\n",
            "9.899494936611665\n",
            "[1, 1]\n",
            "2.23606797749979\n",
            "[3, 2]\n",
            "0.0\n",
            "El punto más cercano es: [3, 2]\n"
          ],
          "name": "stdout"
        }
      ]
    },
    {
      "cell_type": "markdown",
      "metadata": {
        "id": "w5leugh3vofg"
      },
      "source": [
        "#### Puntos más cercanos 3D\r\n"
      ]
    },
    {
      "cell_type": "code",
      "metadata": {
        "id": "YSo-9I4iv0-2",
        "outputId": "053b0eb5-2898-4802-f132-18774b9ca56a",
        "colab": {
          "base_uri": "https://localhost:8080/"
        }
      },
      "source": [
        "def divideVenceras3D(lista, element, result):\r\n",
        "  if len(lista) == 0:\r\n",
        "    print(\"El punto más cercano es:\", result)\r\n",
        "  else:\r\n",
        "    #Primero se calcula la distancia del elemento de la lista y el elemento a que le pasamos\r\n",
        "    x = lista[0][0]-element[0]\r\n",
        "    y = lista[0][1]-element[1]\r\n",
        "    z = lista[0][2]-element[2]\r\n",
        "    distPunto = abs(math.sqrt(x,y,z))\r\n",
        "\r\n",
        "    #Calculamos la distancia del elemento menor con respecto a el elemento a comparar\r\n",
        "    x = result[0]-element[0]\r\n",
        "    y = result[1]-element[1]\r\n",
        "    z = result[2]-element[2]\r\n",
        "    distResult = abs(math.sqrt(x,y,z))\r\n",
        "\r\n",
        "    if distPunto < distResult:\r\n",
        "      result = lista[0]\r\n",
        "    lista.pop(0)\r\n",
        "    divideVenceras2D(lista, element, result)\r\n",
        "\r\n",
        "lista = [[100,0,3],[1,1,1],[3,2,1]]\r\n",
        "element = [3,2,1]\r\n",
        "divideVenceras2D(lista,element,lista[0])"
      ],
      "execution_count": 12,
      "outputs": [
        {
          "output_type": "stream",
          "text": [
            "[100, 0, 3]\n",
            "97.02061636580135\n",
            "[1, 1, 1]\n",
            "2.23606797749979\n",
            "[3, 2, 1]\n",
            "0.0\n",
            "El punto más cercano es: [3, 2, 1]\n"
          ],
          "name": "stdout"
        }
      ]
    }
  ]
}