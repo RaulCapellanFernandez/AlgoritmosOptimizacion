{
  "nbformat": 4,
  "nbformat_minor": 0,
  "metadata": {
    "colab": {
      "name": "Copy of ActGuiada1.ipynb",
      "provenance": [],
      "collapsed_sections": [],
      "toc_visible": true,
      "authorship_tag": "ABX9TyPOPYrmsW6uSzNoS82NxHHI",
      "include_colab_link": true
    },
    "kernelspec": {
      "name": "python3",
      "display_name": "Python 3"
    }
  },
  "cells": [
    {
      "cell_type": "markdown",
      "metadata": {
        "id": "view-in-github",
        "colab_type": "text"
      },
      "source": [
        "<a href=\"https://colab.research.google.com/github/RaulCapellanFernandez/AlgoritmosOptimizacion/blob/main/ActGuiada1.ipynb\" target=\"_parent\"><img src=\"https://colab.research.google.com/assets/colab-badge.svg\" alt=\"Open In Colab\"/></a>"
      ]
    },
    {
      "cell_type": "markdown",
      "metadata": {
        "id": "Jp0HH8ILkLqu"
      },
      "source": [
        "## Actividad Guiada 1: Algoritmos de optimización.\r\n",
        "\r\n",
        "- Autor: Raúl Capellán Fernández\r\n",
        "-URL: https://colab.research.google.com/github/RaulCapellanFernandez/AlgoritmosOptimizacion/blob/main/ActGuiada1.ipynb\r\n",
        "-URL Github: https://github.com/RaulCapellanFernandez/AlgoritmosOptimizacion/blob/main/ActGuiada1.ipynb"
      ]
    },
    {
      "cell_type": "markdown",
      "metadata": {
        "id": "TYwXiP9VkSCd"
      },
      "source": [
        "### Tores de Hanoi con DIvide y vencerás:\r\n",
        "\r\n"
      ]
    },
    {
      "cell_type": "code",
      "metadata": {
        "id": "JlMCFqG-JGKB"
      },
      "source": [
        "def torresHanoi(numFichas, desde, hasta):\r\n",
        "  if numFichas == 1:\r\n",
        "    print(\"Lleva la ficha desde:\", desde,\"hasta\", hasta)\r\n",
        "  else:\r\n",
        "    torresHanoi(numFichas-1, desde, 6-desde-hasta)\r\n",
        "    print(\"LLeva la ficha\",desde,\"hasta\",hasta)\r\n",
        "    torresHanoi(numFichas-1, 6-desde-hasta, hasta)"
      ],
      "execution_count": 8,
      "outputs": []
    },
    {
      "cell_type": "code",
      "metadata": {
        "id": "h4_dLd7xMUn7",
        "colab": {
          "base_uri": "https://localhost:8080/"
        },
        "outputId": "1991218e-c825-4fe0-81d6-118a89a5e210"
      },
      "source": [
        "torresHanoi(3,1,3)"
      ],
      "execution_count": 9,
      "outputs": [
        {
          "output_type": "stream",
          "text": [
            "Lleva la ficha desde: 1 hasta 3\n",
            "LLeva la ficha 1 hasta 2\n",
            "Lleva la ficha desde: 3 hasta 2\n",
            "LLeva la ficha 1 hasta 2\n",
            "LLeva la ficha 1 hasta 3\n",
            "Lleva la ficha desde: 2 hasta 1\n",
            "LLeva la ficha 2 hasta 3\n",
            "Lleva la ficha desde: 1 hasta 3\n",
            "LLeva la ficha 2 hasta 3\n",
            "LLeva la ficha 1 hasta 3\n"
          ],
          "name": "stdout"
        }
      ]
    },
    {
      "cell_type": "markdown",
      "metadata": {
        "id": "L11XKJPhMz1o"
      },
      "source": [
        "### Cambio de Monedas con Algoritmo voraz"
      ]
    },
    {
      "cell_type": "code",
      "metadata": {
        "id": "BWeLyuJ0SZg3"
      },
      "source": [
        "def cambioMonedas(cambio, monedas):\r\n",
        "  arrayCambio = [0]*len(monedas) #Array con [0,0,0,0,...]\r\n",
        "  valorAcumulado = 0\r\n",
        "\r\n",
        "  for i, m in enumerate(monedas):\r\n",
        "    nMonedas = (cambio-valorAcumulado)//m # // Devuelve un valor entero en una division\r\n",
        "    arrayCambio[i] = nMonedas\r\n",
        "    valorAcumulado = valorAcumulado + nMonedas*m\r\n",
        "\r\n",
        "    if valorAcumulado == cambio:\r\n",
        "      return arrayCambio"
      ],
      "execution_count": 16,
      "outputs": []
    },
    {
      "cell_type": "code",
      "metadata": {
        "colab": {
          "base_uri": "https://localhost:8080/"
        },
        "id": "7Yf4YHCuVfX5",
        "outputId": "e86b353a-d158-4db4-caf7-2f37760dea79"
      },
      "source": [
        "\r\n",
        "cambioMonedas(50, [25,10,5,1])"
      ],
      "execution_count": 17,
      "outputs": [
        {
          "output_type": "execute_result",
          "data": {
            "text/plain": [
              "[2, 0, 0, 0]"
            ]
          },
          "metadata": {
            "tags": []
          },
          "execution_count": 17
        }
      ]
    },
    {
      "cell_type": "markdown",
      "metadata": {
        "id": "3JO1sBs9YLKK"
      },
      "source": [
        "### N Reinas con Bactracking"
      ]
    },
    {
      "cell_type": "code",
      "metadata": {
        "id": "ho2tXCNiYtX9"
      },
      "source": [
        "def esValida(sol, etapa):\r\n",
        "  for i in range(etapa+1):\r\n",
        "    if sol.count(sol[i]) > 1:\r\n",
        "      return False\r\n",
        "    for j in range(i+1, etapa+1):\r\n",
        "      if abs(i-j) == abs(sol[i] - sol[j]): return False\r\n",
        "  return True\r\n",
        "\r\n",
        "\r\n",
        "def escribe(S):\r\n",
        "  n = len(S)\r\n",
        "  for x in range(n):\r\n",
        "    print(\"\")\r\n",
        "    for i in range(n):\r\n",
        "      if S[i] == x+1:\r\n",
        "        print(\" X \" , end=\"\")\r\n",
        "      else:\r\n",
        "        print(\" - \", end=\"\")\r\n",
        "\r\n",
        "def reinas(dim, sol=[], etapa=0):\r\n",
        "  if len(sol) == 0:\r\n",
        "    sol = [0 for i in range(dim)]\r\n",
        "    \r\n",
        "  for i in range(1, dim+1):\r\n",
        "    sol[etapa] = i\r\n",
        "\r\n",
        "    if esValida(sol, etapa):\r\n",
        "      if etapa == dim-1:\r\n",
        "        print(sol)\r\n",
        "        escribe(sol)\r\n",
        "        print(\"\\n\\n\\n\")\r\n",
        "      else:\r\n",
        "        reinas(dim, sol, etapa+1)\r\n",
        "    else:\r\n",
        "      None\r\n",
        "    sol[etapa] = 0\r\n"
      ],
      "execution_count": 34,
      "outputs": []
    },
    {
      "cell_type": "code",
      "metadata": {
        "colab": {
          "base_uri": "https://localhost:8080/"
        },
        "id": "AuDO4BXZZU8Q",
        "outputId": "381d5400-8dba-498d-8353-623d80413f00"
      },
      "source": [
        "reinas(4)"
      ],
      "execution_count": 33,
      "outputs": [
        {
          "output_type": "stream",
          "text": [
            "[2, 4, 1, 3]\n",
            "\n",
            " -  -  X  - \n",
            " X  -  -  - \n",
            " -  -  -  X \n",
            " -  X  -  - \n",
            "\n",
            "\n",
            "[3, 1, 4, 2]\n",
            "\n",
            " -  X  -  - \n",
            " -  -  -  X \n",
            " X  -  -  - \n",
            " -  -  X  - \n",
            "\n",
            "\n"
          ],
          "name": "stdout"
        }
      ]
    },
    {
      "cell_type": "code",
      "metadata": {
        "id": "iI_8ONXAb17Q"
      },
      "source": [
        ""
      ],
      "execution_count": null,
      "outputs": []
    }
  ]
}