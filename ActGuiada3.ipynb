{
  "nbformat": 4,
  "nbformat_minor": 0,
  "metadata": {
    "colab": {
      "name": "ActGuiada3.ipynb",
      "provenance": [],
      "authorship_tag": "ABX9TyP1w+JlFbzr/TlQAxI2bUIE",
      "include_colab_link": true
    },
    "kernelspec": {
      "name": "python3",
      "display_name": "Python 3"
    }
  },
  "cells": [
    {
      "cell_type": "markdown",
      "metadata": {
        "id": "view-in-github",
        "colab_type": "text"
      },
      "source": [
        "<a href=\"https://colab.research.google.com/github/RaulCapellanFernandez/AlgoritmosOptimizacion/blob/main/ActGuiada3.ipynb\" target=\"_parent\"><img src=\"https://colab.research.google.com/assets/colab-badge.svg\" alt=\"Open In Colab\"/></a>"
      ]
    },
    {
      "cell_type": "markdown",
      "metadata": {
        "id": "AK0C2zLtAlOW"
      },
      "source": [
        "## Actividad Guiada 3: \r\n",
        "\r\n",
        "- Autor: Raúl Capellán Fernández\r\n",
        "-URL: \r\n",
        "-URL Github: "
      ]
    },
    {
      "cell_type": "code",
      "metadata": {
        "id": "6GBQ4uq-EBEG"
      },
      "source": [
        ""
      ],
      "execution_count": null,
      "outputs": []
    }
  ]
}