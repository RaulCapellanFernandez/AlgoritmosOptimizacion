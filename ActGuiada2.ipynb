{
  "nbformat": 4,
  "nbformat_minor": 0,
  "metadata": {
    "colab": {
      "name": "ActGuiada2.ipynb",
      "provenance": [],
      "collapsed_sections": [],
      "authorship_tag": "ABX9TyPKsSy7ZFM5yFH8izfjcRLh",
      "include_colab_link": true
    },
    "kernelspec": {
      "name": "python3",
      "display_name": "Python 3"
    }
  },
  "cells": [
    {
      "cell_type": "markdown",
      "metadata": {
        "id": "view-in-github",
        "colab_type": "text"
      },
      "source": [
        "<a href=\"https://colab.research.google.com/github/RaulCapellanFernandez/AlgoritmosOptimizacion/blob/main/ActGuiada2.ipynb\" target=\"_parent\"><img src=\"https://colab.research.google.com/assets/colab-badge.svg\" alt=\"Open In Colab\"/></a>"
      ]
    },
    {
      "cell_type": "markdown",
      "metadata": {
        "id": "pVKMy9CbnNOm"
      },
      "source": [
        "## Actividad Guiada 2: Algoritmos de optimización.\r\n",
        "\r\n",
        "- Autor: Raúl Capellán Fernández\r\n",
        "-DNI:    71471266P\r\n",
        "-Fecha:  26 / 12 / 2020"
      ]
    },
    {
      "cell_type": "code",
      "metadata": {
        "id": "rIpUGrPOoJ-X"
      },
      "source": [
        ""
      ],
      "execution_count": null,
      "outputs": []
    }
  ]
}