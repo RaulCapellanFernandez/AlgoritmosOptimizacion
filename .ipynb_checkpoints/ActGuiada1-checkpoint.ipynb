{
 "cells": [
  {
   "cell_type": "markdown",
   "metadata": {
    "colab_type": "text",
    "id": "view-in-github"
   },
   "source": [
    "<a href=\"https://colab.research.google.com/github/RaulCapellanFernandez/AlgoritmosOptimizacion/blob/main/ActGuiada1.ipynb\" target=\"_parent\"><img src=\"https://colab.research.google.com/assets/colab-badge.svg\" alt=\"Open In Colab\"/></a>"
   ]
  },
  {
   "cell_type": "markdown",
   "metadata": {
    "id": "Jp0HH8ILkLqu"
   },
   "source": [
    "## Actividad Guiada 1: Algoritmos de optimización.\n",
    "\n",
    "- Autor: Raúl Capellán Fernández\n",
    "-URL: https://colab.research.google.com/github/RaulCapellanFernandez/AlgoritmosOptimizacion/blob/main/ActGuiada1.ipynb\n",
    "-URL Github: https://github.com/RaulCapellanFernandez/AlgoritmosOptimizacion/blob/main/ActGuiada1.ipynb"
   ]
  },
  {
   "cell_type": "markdown",
   "metadata": {
    "id": "TYwXiP9VkSCd"
   },
   "source": [
    "### Tores de Hanoi con DIvide y vencerás:\n",
    "\n"
   ]
  },
  {
   "cell_type": "code",
   "execution_count": 1,
   "metadata": {
    "id": "JlMCFqG-JGKB"
   },
   "outputs": [],
   "source": [
    "def torresHanoi(numFichas, desde, hasta):\n",
    "  if numFichas == 1:\n",
    "    print(\"Lleva la ficha desde:\", desde,\"hasta\", hasta)\n",
    "  else:\n",
    "    torresHanoi(numFichas-1, desde, 6-desde-hasta)\n",
    "    print(\"LLeva la ficha\",desde,\"hasta\",hasta)\n",
    "    torresHanoi(numFichas-1, 6-desde-hasta, hasta)"
   ]
  },
  {
   "cell_type": "code",
   "execution_count": 2,
   "metadata": {
    "colab": {
     "base_uri": "https://localhost:8080/"
    },
    "id": "h4_dLd7xMUn7",
    "outputId": "7ef1c6b1-72f6-44c3-de24-d3875a078ffb"
   },
   "outputs": [
    {
     "name": "stdout",
     "output_type": "stream",
     "text": [
      "Lleva la ficha desde: 1 hasta 3\n",
      "LLeva la ficha 1 hasta 2\n",
      "Lleva la ficha desde: 3 hasta 2\n",
      "LLeva la ficha 1 hasta 3\n",
      "Lleva la ficha desde: 2 hasta 1\n",
      "LLeva la ficha 2 hasta 3\n",
      "Lleva la ficha desde: 1 hasta 3\n"
     ]
    }
   ],
   "source": [
    "torresHanoi(3,1,3)"
   ]
  },
  {
   "cell_type": "markdown",
   "metadata": {
    "id": "L11XKJPhMz1o"
   },
   "source": [
    "### Cambio de Monedas con Algoritmo voraz"
   ]
  },
  {
   "cell_type": "code",
   "execution_count": 3,
   "metadata": {
    "id": "BWeLyuJ0SZg3"
   },
   "outputs": [],
   "source": [
    "def cambioMonedas(cambio, monedas):\n",
    "  arrayCambio = [0]*len(monedas) #Array con [0,0,0,0,...]\n",
    "  valorAcumulado = 0\n",
    "\n",
    "  for i, m in enumerate(monedas):\n",
    "    nMonedas = (cambio-valorAcumulado)//m # // Devuelve un valor entero en una division\n",
    "    arrayCambio[i] = nMonedas\n",
    "    valorAcumulado = valorAcumulado + nMonedas*m\n",
    "\n",
    "    if valorAcumulado == cambio:\n",
    "      return arrayCambio"
   ]
  },
  {
   "cell_type": "code",
   "execution_count": 4,
   "metadata": {
    "colab": {
     "base_uri": "https://localhost:8080/"
    },
    "id": "7Yf4YHCuVfX5",
    "outputId": "bffe76c4-3337-4fd1-de39-0567c152c8d2"
   },
   "outputs": [
    {
     "data": {
      "text/plain": [
       "[2, 0, 0, 0]"
      ]
     },
     "execution_count": 4,
     "metadata": {
      "tags": []
     },
     "output_type": "execute_result"
    }
   ],
   "source": [
    "\n",
    "cambioMonedas(50, [25,10,5,1])"
   ]
  },
  {
   "cell_type": "markdown",
   "metadata": {
    "id": "3JO1sBs9YLKK"
   },
   "source": [
    "### N Reinas con Bactracking"
   ]
  },
  {
   "cell_type": "code",
   "execution_count": 5,
   "metadata": {
    "id": "ho2tXCNiYtX9"
   },
   "outputs": [],
   "source": [
    "def esValida(sol, etapa):\n",
    "  for i in range(etapa+1):\n",
    "    if sol.count(sol[i]) > 1:\n",
    "      return False\n",
    "    for j in range(i+1, etapa+1):\n",
    "      if abs(i-j) == abs(sol[i] - sol[j]): return False\n",
    "  return True\n",
    "\n",
    "\n",
    "def escribe(S):\n",
    "  n = len(S)\n",
    "  for x in range(n):\n",
    "    print(\"\")\n",
    "    for i in range(n):\n",
    "      if S[i] == x+1:\n",
    "        print(\" X \" , end=\"\")\n",
    "      else:\n",
    "        print(\" - \", end=\"\")\n",
    "\n",
    "def reinas(dim, sol=[], etapa=0):\n",
    "  if len(sol) == 0:\n",
    "    sol = [0 for i in range(dim)]\n",
    "    \n",
    "  for i in range(1, dim+1):\n",
    "    sol[etapa] = i\n",
    "\n",
    "    if esValida(sol, etapa):\n",
    "      if etapa == dim-1:\n",
    "        print(sol)\n",
    "        escribe(sol)\n",
    "        print(\"\\n\\n\\n\")\n",
    "      else:\n",
    "        reinas(dim, sol, etapa+1)\n",
    "    else:\n",
    "      None\n",
    "    sol[etapa] = 0\n"
   ]
  },
  {
   "cell_type": "code",
   "execution_count": 6,
   "metadata": {
    "colab": {
     "base_uri": "https://localhost:8080/"
    },
    "id": "AuDO4BXZZU8Q",
    "outputId": "da6cf30f-a748-43ba-9091-66a512878d68"
   },
   "outputs": [
    {
     "name": "stdout",
     "output_type": "stream",
     "text": [
      "[2, 4, 1, 3]\n",
      "\n",
      " -  -  X  - \n",
      " X  -  -  - \n",
      " -  -  -  X \n",
      " -  X  -  - \n",
      "\n",
      "\n",
      "\n",
      "[3, 1, 4, 2]\n",
      "\n",
      " -  X  -  - \n",
      " -  -  -  X \n",
      " X  -  -  - \n",
      " -  -  X  - \n",
      "\n",
      "\n",
      "\n"
     ]
    }
   ],
   "source": [
    "reinas(4)"
   ]
  },
  {
   "cell_type": "markdown",
   "metadata": {
    "id": "iI_8ONXAb17Q"
   },
   "source": [
    "### Puntos más cercanos"
   ]
  },
  {
   "cell_type": "code",
   "execution_count": 7,
   "metadata": {
    "id": "V7XGzi_FxOJ4"
   },
   "outputs": [],
   "source": [
    "import random\n",
    "import math\n",
    "random.seed(42)"
   ]
  },
  {
   "cell_type": "markdown",
   "metadata": {
    "id": "Iil-t9QXv4Zr"
   },
   "source": [
    "#### Puntos más cercanos 1D"
   ]
  },
  {
   "cell_type": "code",
   "execution_count": 8,
   "metadata": {
    "id": "cBvLwdTFwRY4"
   },
   "outputs": [],
   "source": [
    "lista = [random.randrange(1, 1000) for x in range(1000)]"
   ]
  },
  {
   "cell_type": "markdown",
   "metadata": {
    "id": "K9Hh5dVWvRhn"
   },
   "source": [
    "Fuerza Bruta"
   ]
  },
  {
   "cell_type": "code",
   "execution_count": 9,
   "metadata": {
    "colab": {
     "base_uri": "https://localhost:8080/"
    },
    "id": "BD9ALodOvw5p",
    "outputId": "917248b4-4a6f-4400-c5aa-18e722927b62"
   },
   "outputs": [
    {
     "name": "stdout",
     "output_type": "stream",
     "text": [
      "Hay que buscar el punto más cercano a -10\n",
      "El punto más cercano es: 3\n"
     ]
    }
   ],
   "source": [
    "def fuerzaBruta(lista, element):\n",
    "  print(\"Hay que buscar el punto más cercano a\",element)\n",
    "  if len(lista) == 0:\n",
    "    print(\"La lista está vacia\")\n",
    "  elif len(lista) == 1:\n",
    "    print(\"El elemento mas cercano de la lista es:\", lista)\n",
    "  else:\n",
    "    aux = lista[0]\n",
    "    for i in range(len(lista)):\n",
    "      if len(lista) > i+1:\n",
    "        if abs(lista[i]-element) > abs(lista[i+1]-element):\n",
    "          aux = lista[i+1]\n",
    "  print(\"El punto más cercano es:\", aux)\n",
    "\n",
    "lista = [100,3,4,4]\n",
    "fuerzaBruta(lista, -10)"
   ]
  },
  {
   "cell_type": "markdown",
   "metadata": {
    "id": "l3EbUG8UvXA_"
   },
   "source": [
    "Complejidad"
   ]
  },
  {
   "cell_type": "markdown",
   "metadata": {
    "id": "6pbWLbmJD8dK"
   },
   "source": []
  },
  {
   "cell_type": "markdown",
   "metadata": {
    "id": "CMFe7Tqnvxiz"
   },
   "source": [
    "La complejidad mediante fuerza bruta es de O(n) ya que hay que recorrer la lista una única vez, el resto de operaciones son comparaciones y asignaciones que no influyen para la complejidad final."
   ]
  },
  {
   "cell_type": "markdown",
   "metadata": {
    "id": "-m40v8olvbUK"
   },
   "source": [
    "Divide y Vencerás"
   ]
  },
  {
   "cell_type": "code",
   "execution_count": 10,
   "metadata": {
    "colab": {
     "base_uri": "https://localhost:8080/"
    },
    "id": "XIMiblKKvyG6",
    "outputId": "d752991d-3a1f-447d-bba8-7765f55380f1"
   },
   "outputs": [
    {
     "name": "stdout",
     "output_type": "stream",
     "text": [
      "El punto más cercano es: 100\n"
     ]
    }
   ],
   "source": [
    "def divideVenceras(lista, element, result):\n",
    "  if len(lista) == 0:\n",
    "    print(\"La lista está vacía\")\n",
    "    return 0\n",
    "  elif len(lista) == 1:\n",
    "    print(\"El punto más cercano es:\", result)\n",
    "  else:\n",
    "    if abs(lista[0]-element) < abs(result-element):\n",
    "      result = lista[0]\n",
    "    lista.pop(0)\n",
    "    divideVenceras(lista, element, result)\n",
    "\n",
    "lista = [100,3,4,4]\n",
    "divideVenceras(lista,80,lista[0])"
   ]
  },
  {
   "cell_type": "markdown",
   "metadata": {
    "id": "CnqrVRorvfWO"
   },
   "source": [
    "Complejidad"
   ]
  },
  {
   "cell_type": "code",
   "execution_count": 10,
   "metadata": {
    "id": "lbFogUKnvzMK"
   },
   "outputs": [],
   "source": [
    "  "
   ]
  },
  {
   "cell_type": "markdown",
   "metadata": {
    "id": "1VhnD2ShviiZ"
   },
   "source": [
    "#### Puntos más cercanos 2D\n"
   ]
  },
  {
   "cell_type": "code",
   "execution_count": 11,
   "metadata": {
    "colab": {
     "base_uri": "https://localhost:8080/"
    },
    "id": "nASErUu0v0LY",
    "outputId": "97172853-13e9-41f8-d144-88050bd05e21"
   },
   "outputs": [
    {
     "name": "stdout",
     "output_type": "stream",
     "text": [
      "[10, -5]\n",
      "9.899494936611665\n",
      "[1, 1]\n",
      "2.23606797749979\n",
      "[3, 2]\n",
      "0.0\n",
      "El punto más cercano es: [3, 2]\n"
     ]
    }
   ],
   "source": [
    "def divideVenceras2D(lista, element, result): \n",
    "  if len(lista) == 0:\n",
    "    print(\"El punto más cercano es:\", result)\n",
    "  else:\n",
    "    #Primero se calcula la distancia del elemento de la lista y el elemento a que le pasamos\n",
    "    x = lista[0][0]-abs(element[0])\n",
    "    y = lista[0][1]-abs(element[1])\n",
    "    distPunto = math.sqrt(math.pow(x,2) + math.pow(y,2))\n",
    "    print(lista[0])\n",
    "    print(distPunto)\n",
    "\n",
    "    #Calculamos la distancia del elemento menor con respecto a el elemento a comparar\n",
    "    x = result[0]-element[0]\n",
    "    y = result[1]-element[1]\n",
    "    distResult = math.sqrt(math.pow(x,2) + math.pow(y,2))\n",
    "\n",
    "    if distPunto < distResult:\n",
    "      result = lista[0]\n",
    "    lista.pop(0)\n",
    "    divideVenceras2D(lista, element, result)\n",
    "\n",
    "lista = [[10,-5],[1,1],[3,2]]\n",
    "element = [3,2]\n",
    "divideVenceras2D(lista,element,lista[0])"
   ]
  },
  {
   "cell_type": "markdown",
   "metadata": {
    "id": "w5leugh3vofg"
   },
   "source": [
    "#### Puntos más cercanos 3D\n"
   ]
  },
  {
   "cell_type": "code",
   "execution_count": 12,
   "metadata": {
    "colab": {
     "base_uri": "https://localhost:8080/"
    },
    "id": "YSo-9I4iv0-2",
    "outputId": "053b0eb5-2898-4802-f132-18774b9ca56a"
   },
   "outputs": [
    {
     "name": "stdout",
     "output_type": "stream",
     "text": [
      "[100, 0, 3]\n",
      "97.02061636580135\n",
      "[1, 1, 1]\n",
      "2.23606797749979\n",
      "[3, 2, 1]\n",
      "0.0\n",
      "El punto más cercano es: [3, 2, 1]\n"
     ]
    }
   ],
   "source": [
    "def divideVenceras3D(lista, element, result):\n",
    "  if len(lista) == 0:\n",
    "    print(\"El punto más cercano es:\", result)\n",
    "  else:\n",
    "    #Primero se calcula la distancia del elemento de la lista y el elemento a que le pasamos\n",
    "    x = lista[0][0]-element[0]\n",
    "    y = lista[0][1]-element[1]\n",
    "    z = lista[0][2]-element[2]\n",
    "    distPunto = abs(math.sqrt(x,y,z))\n",
    "\n",
    "    #Calculamos la distancia del elemento menor con respecto a el elemento a comparar\n",
    "    x = result[0]-element[0]\n",
    "    y = result[1]-element[1]\n",
    "    z = result[2]-element[2]\n",
    "    distResult = abs(math.sqrt(x,y,z))\n",
    "\n",
    "    if distPunto < distResult:\n",
    "      result = lista[0]\n",
    "    lista.pop(0)\n",
    "    divideVenceras2D(lista, element, result)\n",
    "\n",
    "lista = [[100,0,3],[1,1,1],[3,2,1]]\n",
    "element = [3,2,1]\n",
    "divideVenceras2D(lista,element,lista[0])"
   ]
  }
 ],
 "metadata": {
  "colab": {
   "authorship_tag": "ABX9TyOn5TBRf+yt2LCbNGm0ww8q",
   "collapsed_sections": [],
   "include_colab_link": true,
   "name": "Copy of ActGuiada1.ipynb",
   "provenance": []
  },
  "kernelspec": {
   "display_name": "Python 3",
   "language": "python",
   "name": "python3"
  },
  "language_info": {
   "codemirror_mode": {
    "name": "ipython",
    "version": 3
   },
   "file_extension": ".py",
   "mimetype": "text/x-python",
   "name": "python",
   "nbconvert_exporter": "python",
   "pygments_lexer": "ipython3",
   "version": "3.7.6"
  }
 },
 "nbformat": 4,
 "nbformat_minor": 1
}
